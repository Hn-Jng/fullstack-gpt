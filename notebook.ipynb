{
 "cells": [
  {
   "cell_type": "code",
   "execution_count": 74,
   "metadata": {},
   "outputs": [
    {
     "name": "stdout",
     "output_type": "stream",
     "text": [
      "\u001b[32;1m\u001b[1;3m[llm/start]\u001b[0m \u001b[1m[1:llm:ChatOpenAI] Entering LLM run with input:\n",
      "\u001b[0m{\n",
      "  \"prompts\": [\n",
      "    \"Human: What is the recipe for 보쌈\"\n",
      "  ]\n",
      "}\n",
      "\u001b[36;1m\u001b[1;3m[llm/end]\u001b[0m \u001b[1m[1:llm:ChatOpenAI] [3.25s] Exiting LLM run with output:\n",
      "\u001b[0m{\n",
      "  \"generations\": [\n",
      "    [\n",
      "      {\n",
      "        \"text\": \"Bo ssam is a traditional Korean dish that consists of boiled pork belly wrapped in lettuce with various condiments. Here is a simple recipe for making bo ssam at home:\\n\\nIngredients:\\n- 2-3 lbs pork belly\\n- 1/2 cup soy sauce\\n- 1/4 cup rice wine\\n- 1/4 cup sugar\\n- 1 onion, chopped\\n- 4-5 cloves garlic, minced\\n- 1 piece ginger, sliced\\n- Lettuce leaves\\n- Kimchi\\n- Ssamjang (Korean dipping sauce)\\n- Garlic cloves, sliced\\n- Green chili peppers, sliced\\n\\nInstructions:\\n1. In a large pot, combine the soy sauce, rice wine, sugar, onion, garlic, and ginger. Add enough water to cover the pork belly. Bring to a boil.\\n2. Add the pork belly to the pot and reduce heat to low. Simmer for about 2-3 hours, or until the pork is tender.\\n3. Remove the pork belly from the pot and let it cool slightly. Slice the pork belly into thin pieces.\\n4. To serve, place the pork belly slices on a platter. Serve with lettuce leaves, kimchi, ssamjang, garlic cloves, and green chili peppers.\\n5. To eat, take a piece of lettuce and place a slice of pork belly on top. Add some kimchi, ssamjang, garlic, and chili peppers. Wrap the lettuce around the filling and enjoy!\\n\\nBo ssam is typically served as a main dish or as part of a larger Korean meal. Enjoy!\",\n",
      "        \"generation_info\": {\n",
      "          \"finish_reason\": \"stop\"\n",
      "        },\n",
      "        \"type\": \"ChatGeneration\",\n",
      "        \"message\": {\n",
      "          \"lc\": 1,\n",
      "          \"type\": \"constructor\",\n",
      "          \"id\": [\n",
      "            \"langchain\",\n",
      "            \"schema\",\n",
      "            \"messages\",\n",
      "            \"AIMessage\"\n",
      "          ],\n",
      "          \"kwargs\": {\n",
      "            \"content\": \"Bo ssam is a traditional Korean dish that consists of boiled pork belly wrapped in lettuce with various condiments. Here is a simple recipe for making bo ssam at home:\\n\\nIngredients:\\n- 2-3 lbs pork belly\\n- 1/2 cup soy sauce\\n- 1/4 cup rice wine\\n- 1/4 cup sugar\\n- 1 onion, chopped\\n- 4-5 cloves garlic, minced\\n- 1 piece ginger, sliced\\n- Lettuce leaves\\n- Kimchi\\n- Ssamjang (Korean dipping sauce)\\n- Garlic cloves, sliced\\n- Green chili peppers, sliced\\n\\nInstructions:\\n1. In a large pot, combine the soy sauce, rice wine, sugar, onion, garlic, and ginger. Add enough water to cover the pork belly. Bring to a boil.\\n2. Add the pork belly to the pot and reduce heat to low. Simmer for about 2-3 hours, or until the pork is tender.\\n3. Remove the pork belly from the pot and let it cool slightly. Slice the pork belly into thin pieces.\\n4. To serve, place the pork belly slices on a platter. Serve with lettuce leaves, kimchi, ssamjang, garlic cloves, and green chili peppers.\\n5. To eat, take a piece of lettuce and place a slice of pork belly on top. Add some kimchi, ssamjang, garlic, and chili peppers. Wrap the lettuce around the filling and enjoy!\\n\\nBo ssam is typically served as a main dish or as part of a larger Korean meal. Enjoy!\",\n",
      "            \"additional_kwargs\": {}\n",
      "          }\n",
      "        }\n",
      "      }\n",
      "    ]\n",
      "  ],\n",
      "  \"llm_output\": {\n",
      "    \"token_usage\": {\n",
      "      \"prompt_tokens\": 16,\n",
      "      \"completion_tokens\": 326,\n",
      "      \"total_tokens\": 342,\n",
      "      \"prompt_tokens_details\": {\n",
      "        \"cached_tokens\": 0,\n",
      "        \"audio_tokens\": 0\n",
      "      },\n",
      "      \"completion_tokens_details\": {\n",
      "        \"reasoning_tokens\": 0,\n",
      "        \"audio_tokens\": 0,\n",
      "        \"accepted_prediction_tokens\": 0,\n",
      "        \"rejected_prediction_tokens\": 0\n",
      "      }\n",
      "    },\n",
      "    \"model_name\": \"gpt-3.5-turbo\",\n",
      "    \"system_fingerprint\": null\n",
      "  },\n",
      "  \"run\": null\n",
      "}\n",
      "Tokens Used: 342\n",
      "\tPrompt Tokens: 16\n",
      "\tCompletion Tokens: 326\n",
      "Successful Requests: 1\n",
      "Total Cost (USD): $0.0006760000000000001\n"
     ]
    }
   ],
   "source": [
    "from langchain.chat_models import ChatOpenAI\n",
    "from langchain.llms import openai\n",
    "from langchain.llms.loading import load_llm\n",
    "from langchain.callbacks import get_openai_callback\n",
    "# from lang\n",
    "\n",
    "chat = ChatOpenAI(\n",
    "    temperature=0.1,\n",
    "    max_tokens= 500,\n",
    ")\n",
    "# chat = load_llm(\"model.json\")\n",
    "# chat.save(\"model.json\") # chat_models 패키지에서는 지원하지 않는걸로 보임\n",
    "\n",
    "with get_openai_callback() as usage:\n",
    "    chat.predict(\"What is the recipe for 보쌈\")\n",
    "    \n",
    "    # with 문 안에서 사용된 llm의 전체 토큰, 비용 등의 정보를 알 수 있음\n",
    "    print(usage)\n",
    "    # print(usage.total_tokens) # 토큰 수만 알고 싶은 경우"
   ]
  }
 ],
 "metadata": {
  "kernelspec": {
   "display_name": "env",
   "language": "python",
   "name": "python3"
  },
  "language_info": {
   "codemirror_mode": {
    "name": "ipython",
    "version": 3
   },
   "file_extension": ".py",
   "mimetype": "text/x-python",
   "name": "python",
   "nbconvert_exporter": "python",
   "pygments_lexer": "ipython3",
   "version": "3.11.11"
  }
 },
 "nbformat": 4,
 "nbformat_minor": 2
}
