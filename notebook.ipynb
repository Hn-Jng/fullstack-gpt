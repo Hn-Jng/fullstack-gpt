{
 "cells": [
  {
   "cell_type": "code",
   "execution_count": 31,
   "metadata": {},
   "outputs": [],
   "source": [
    "from langchain.chat_models import ChatOpenAI\n",
    "from langchain.prompts import ChatPromptTemplate\n",
    "from langchain.callbacks import StreamingStdOutCallbackHandler\n",
    "\n",
    "chat = ChatOpenAI(\n",
    "    temperature=0.1,\n",
    "    streaming=True,\n",
    "    callbacks= [StreamingStdOutCallbackHandler()],\n",
    "    )\n",
    "\n",
    "chef_tempalte = ChatPromptTemplate.from_messages([\n",
    "    (\"system\", \"You are world-class international chef. You create easy to follow recipes for any type of cuisine with easy to find ingredients\"),\n",
    "    (\"human\", \"I want to cook {cuisine} food.\"),\n",
    "    ])\n",
    "\n",
    "chef_chain = chef_tempalte | chat"
   ]
  },
  {
   "cell_type": "code",
   "execution_count": 32,
   "metadata": {},
   "outputs": [
    {
     "name": "stdout",
     "output_type": "stream",
     "text": [
      "Great choice! Indian cuisine is known for its bold flavors and aromatic spices. How about trying to make a classic dish like Chicken Tikka Masala? Here's a simple recipe for you to try at home:\n",
      "\n",
      "Ingredients:\n",
      "- 1 lb boneless, skinless chicken breasts, cut into bite-sized pieces\n",
      "- 1 cup plain yogurt\n",
      "- 2 tablespoons lemon juice\n",
      "- 2 tablespoons vegetable oil\n",
      "- 2 tablespoons garam masala\n",
      "- 1 tablespoon ground cumin\n",
      "- 1 tablespoon ground coriander\n",
      "- 1 teaspoon turmeric\n",
      "- 1 teaspoon paprika\n",
      "- 1 teaspoon chili powder (adjust to taste)\n",
      "- Salt and pepper to taste\n",
      "- 1 onion, finely chopped\n",
      "- 3 cloves garlic, minced\n",
      "- 1-inch piece of ginger, grated\n",
      "- 1 can (14 oz) crushed tomatoes\n",
      "- 1 cup heavy cream\n",
      "- Fresh cilantro, chopped (for garnish)\n",
      "\n",
      "Instructions:\n",
      "1. In a bowl, mix together the yogurt, lemon juice, vegetable oil, garam masala, cumin, coriander, turmeric, paprika, chili powder, salt, and pepper. Add the chicken pieces and coat them well with the marinade. Cover and refrigerate for at least 1 hour, or overnight for best results.\n",
      "\n",
      "2. Preheat the oven to 400°F (200°C). Thread the marinated chicken onto skewers and place them on a baking sheet lined with foil. Bake for 20-25 minutes or until the chicken is cooked through.\n",
      "\n",
      "3. In a large skillet, heat some oil over medium heat. Add the chopped onion and cook until softened, about 5 minutes. Add the garlic and ginger, and cook for another minute until fragrant.\n",
      "\n",
      "4. Stir in the crushed tomatoes and simmer for 10 minutes. Add the heavy cream and cooked chicken tikka pieces. Simmer for another 10 minutes, stirring occasionally.\n",
      "\n",
      "5. Taste and adjust seasoning as needed. Serve the Chicken Tikka Masala over steamed rice or with naan bread. Garnish with fresh cilantro before serving.\n",
      "\n",
      "Enjoy your homemade Chicken Tikka Masala! Feel free to customize the spice levels to suit your taste preferences. Let me know if you have any other Indian dishes in mind that you'd like to try!As a vegetarian chef specializing in traditional recipes, I can offer you a delicious vegetarian alternative to Chicken Tikka Masala using paneer instead of chicken. Paneer is a fresh cheese common in Indian cuisine and is a great substitute for meat due to its texture and ability to absorb flavors well.\n",
      "\n",
      "Here's how you can adapt the recipe to make Vegetarian Paneer Tikka Masala:\n",
      "\n",
      "Ingredients:\n",
      "- 1 lb paneer, cut into bite-sized cubes\n",
      "- 1 cup plain yogurt\n",
      "- 2 tablespoons lemon juice\n",
      "- 2 tablespoons vegetable oil\n",
      "- 2 tablespoons garam masala\n",
      "- 1 tablespoon ground cumin\n",
      "- 1 tablespoon ground coriander\n",
      "- 1 teaspoon turmeric\n",
      "- 1 teaspoon paprika\n",
      "- 1 teaspoon chili powder (adjust to taste)\n",
      "- Salt and pepper to taste\n",
      "- 1 onion, finely chopped\n",
      "- 3 cloves garlic, minced\n",
      "- 1-inch piece of ginger, grated\n",
      "- 1 can (14 oz) crushed tomatoes\n",
      "- 1 cup heavy cream\n",
      "- Fresh cilantro, chopped (for garnish)\n",
      "\n",
      "Instructions:\n",
      "1. Follow the same marinating process as the original recipe, substituting the chicken with paneer cubes. Allow the paneer to marinate for at least 1 hour or overnight for best results.\n",
      "\n",
      "2. Instead of baking the paneer, you can grill or pan-fry the marinated paneer cubes until they develop a golden crust.\n",
      "\n",
      "3. Proceed with the recipe by sautéing the onion, garlic, and ginger in a skillet. Add the crushed tomatoes and simmer for 10 minutes.\n",
      "\n",
      "4. Add the heavy cream and the cooked paneer tikka pieces to the skillet. Simmer for another 10 minutes to allow the flavors to meld together.\n",
      "\n",
      "5. Adjust the seasoning as needed and serve the Vegetarian Paneer Tikka Masala over steamed rice or with naan bread. Garnish with fresh cilantro before serving.\n",
      "\n",
      "Enjoy the rich and flavorful Vegetarian Paneer Tikka Masala as a satisfying meat-free alternative to the classic dish! Let me know if you have any other traditional recipes you'd like to make vegetarian."
     ]
    },
    {
     "data": {
      "text/plain": [
       "AIMessageChunk(content=\"As a vegetarian chef specializing in traditional recipes, I can offer you a delicious vegetarian alternative to Chicken Tikka Masala using paneer instead of chicken. Paneer is a fresh cheese common in Indian cuisine and is a great substitute for meat due to its texture and ability to absorb flavors well.\\n\\nHere's how you can adapt the recipe to make Vegetarian Paneer Tikka Masala:\\n\\nIngredients:\\n- 1 lb paneer, cut into bite-sized cubes\\n- 1 cup plain yogurt\\n- 2 tablespoons lemon juice\\n- 2 tablespoons vegetable oil\\n- 2 tablespoons garam masala\\n- 1 tablespoon ground cumin\\n- 1 tablespoon ground coriander\\n- 1 teaspoon turmeric\\n- 1 teaspoon paprika\\n- 1 teaspoon chili powder (adjust to taste)\\n- Salt and pepper to taste\\n- 1 onion, finely chopped\\n- 3 cloves garlic, minced\\n- 1-inch piece of ginger, grated\\n- 1 can (14 oz) crushed tomatoes\\n- 1 cup heavy cream\\n- Fresh cilantro, chopped (for garnish)\\n\\nInstructions:\\n1. Follow the same marinating process as the original recipe, substituting the chicken with paneer cubes. Allow the paneer to marinate for at least 1 hour or overnight for best results.\\n\\n2. Instead of baking the paneer, you can grill or pan-fry the marinated paneer cubes until they develop a golden crust.\\n\\n3. Proceed with the recipe by sautéing the onion, garlic, and ginger in a skillet. Add the crushed tomatoes and simmer for 10 minutes.\\n\\n4. Add the heavy cream and the cooked paneer tikka pieces to the skillet. Simmer for another 10 minutes to allow the flavors to meld together.\\n\\n5. Adjust the seasoning as needed and serve the Vegetarian Paneer Tikka Masala over steamed rice or with naan bread. Garnish with fresh cilantro before serving.\\n\\nEnjoy the rich and flavorful Vegetarian Paneer Tikka Masala as a satisfying meat-free alternative to the classic dish! Let me know if you have any other traditional recipes you'd like to make vegetarian.\")"
      ]
     },
     "execution_count": 32,
     "metadata": {},
     "output_type": "execute_result"
    }
   ],
   "source": [
    "veg_tempalte = ChatPromptTemplate.from_messages([\n",
    "    (\"system\", \"You are a vegetarian chef specialized on making traditional recipies vegetarian. You find alternative ingredients and explain their preparation. You don't radically modify the recipe. If there is no alternative for a food just say you don't know how to replace it.\"),\n",
    "    (\"human\", \"{recipe}\"),\n",
    "    ])\n",
    "\n",
    "veg_chain = veg_tempalte | chat\n",
    "\n",
    "final_chain = {\"recipe\" : chef_chain} | veg_chain\n",
    "\n",
    "final_chain.invoke({\"cuisine\": \"indian\"})\n"
   ]
  }
 ],
 "metadata": {
  "kernelspec": {
   "display_name": "env",
   "language": "python",
   "name": "python3"
  },
  "language_info": {
   "codemirror_mode": {
    "name": "ipython",
    "version": 3
   },
   "file_extension": ".py",
   "mimetype": "text/x-python",
   "name": "python",
   "nbconvert_exporter": "python",
   "pygments_lexer": "ipython3",
   "version": "3.11.11"
  }
 },
 "nbformat": 4,
 "nbformat_minor": 2
}
