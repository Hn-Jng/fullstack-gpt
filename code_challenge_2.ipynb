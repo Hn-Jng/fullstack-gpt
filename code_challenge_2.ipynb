{
 "cells": [
  {
   "cell_type": "code",
   "execution_count": 2,
   "metadata": {},
   "outputs": [
    {
     "name": "stdout",
     "output_type": "stream",
     "text": [
      "\n",
      "        I know this:\n",
      "        director: Steven Spielberg\n",
      "        main cast: Tye Sheridan, Olivia Cooke, Ben Mendelsohn, Mark Rylance\n",
      "        budget: $155 million\n",
      "        box office revenue: $582 million\n",
      "        genre of the movie: Science fiction, Action, Adventure\n",
      "        small synopsis: \n",
      "        In a future where people escape their harsh reality by entering a virtual reality world called the OASIS, a young gamer named Wade Watts embarks on a quest to find an Easter egg hidden within the virtual world by its creator. The search becomes a high-stakes adventure that pits him against powerful foes and tests his limits.\n",
      "        "
     ]
    },
    {
     "data": {
      "text/plain": [
       "AIMessageChunk(content='\\n        I know this:\\n        director: Steven Spielberg\\n        main cast: Tye Sheridan, Olivia Cooke, Ben Mendelsohn, Mark Rylance\\n        budget: $155 million\\n        box office revenue: $582 million\\n        genre of the movie: Science fiction, Action, Adventure\\n        small synopsis: \\n        In a future where people escape their harsh reality by entering a virtual reality world called the OASIS, a young gamer named Wade Watts embarks on a quest to find an Easter egg hidden within the virtual world by its creator. The search becomes a high-stakes adventure that pits him against powerful foes and tests his limits.\\n        ')"
      ]
     },
     "execution_count": 2,
     "metadata": {},
     "output_type": "execute_result"
    }
   ],
   "source": [
    "from langchain.chat_models import ChatOpenAI\n",
    "from langchain.prompts import ChatPromptTemplate, PromptTemplate\n",
    "from langchain.prompts.few_shot import FewShotChatMessagePromptTemplate, FewShotPromptTemplate\n",
    "from langchain.callbacks import StreamingStdOutCallbackHandler\n",
    "\n",
    "chat = ChatOpenAI(\n",
    "    temperature=0.1,\n",
    "    streaming=True,\n",
    "    callbacks= [StreamingStdOutCallbackHandler()],\n",
    "    )\n",
    "\n",
    "examples = [\n",
    "    {\n",
    "        \"movie\": \"Inception\",\n",
    "        \"answer\": \"\"\"\n",
    "        Here is what I know:\n",
    "        director: Christopher Nolan\n",
    "        main cast: Leonardo DiCaprio, Joseph Gordon-Levitt, Ellen Page, Tom Hardy\n",
    "        budget: $160 million\n",
    "        box office revenue: $836 million\n",
    "        genre of the movie: Science fiction, Thriller\n",
    "        small synopsis: A skilled thief, Dom Cobb, is given a chance to erase his criminal history by planting an idea into a target's subconscious using dream-sharing technology. However, the mission becomes increasingly complex as personal demons and unexpected twists threaten its success.\n",
    "        \"\"\",\n",
    "    },\n",
    "    {\n",
    "        \"movie\": \"The Godfather\",\n",
    "        \"answer\": \"\"\"\n",
    "        I know this:\n",
    "        director: Francis Ford Coppola\n",
    "        main cast: Marlon Brando, Al Pacino, James Caan, Diane Keaton\n",
    "        budget: $6–7.2 million\n",
    "        box office revenue: $250–287 million\n",
    "        genre of the movie: Crime, Drama\n",
    "        small synopsis: \n",
    "        The aging patriarch of an organized crime dynasty transfers control of his clandestine empire to his reluctant son, Michael Corleone. As Michael gets drawn deeper into the violent world of the Mafia, he struggles with the moral and personal costs of power.\n",
    "        \"\"\",\n",
    "    },\n",
    "    {\n",
    "        \"movie\": \"InterStellar\",\n",
    "        \"answer\": \"\"\"\n",
    "        I know this:\n",
    "        director: Christopher Nolan\n",
    "        main cast: Matthew McConaughey, Anne Hathaway, Jessica Chastain, Michael Caine\n",
    "        budget: $165 million\n",
    "        box office revenue: $733 million\n",
    "        genre of the movie: Science fiction, Adventure, Drama\n",
    "        small synopsis: \n",
    "        In a dystopian future where Earth is becoming uninhabitable, a group of astronauts embark on a journey through a wormhole to find a new home for humanity. As they navigate space-time, they face emotional and scientific challenges that could determine the fate of civilization.\n",
    "        \"\"\",\n",
    "    },\n",
    "]\n",
    "\n",
    "\n",
    "example_prompt = ChatPromptTemplate.from_messages(\n",
    "    [\n",
    "        (\"human\", \"What do you know about {movie}?\"),\n",
    "        (\"ai\", \"{answer}\"),\n",
    "    ]\n",
    ")\n",
    "\n",
    "fewshot_prompt = FewShotChatMessagePromptTemplate(\n",
    "    example_prompt= example_prompt,\n",
    "    examples= examples,\n",
    ")\n",
    "\n",
    "final_prompt = ChatPromptTemplate.from_messages(\n",
    "    [\n",
    "        (\"system\", \"You are a movie expert, you give short answers.\"),\n",
    "        fewshot_prompt,\n",
    "        (\"human\", \"What do you know about {movie}?\")\n",
    "    ]\n",
    ")\n",
    "\n",
    "\n",
    "chain = final_prompt | chat\n",
    "\n",
    "chain.invoke({\"movie\":\"Ready Player One\"})"
   ]
  },
  {
   "cell_type": "code",
   "execution_count": null,
   "metadata": {},
   "outputs": [],
   "source": []
  }
 ],
 "metadata": {
  "kernelspec": {
   "display_name": "env",
   "language": "python",
   "name": "python3"
  },
  "language_info": {
   "codemirror_mode": {
    "name": "ipython",
    "version": 3
   },
   "file_extension": ".py",
   "mimetype": "text/x-python",
   "name": "python",
   "nbconvert_exporter": "python",
   "pygments_lexer": "ipython3",
   "version": "3.11.11"
  }
 },
 "nbformat": 4,
 "nbformat_minor": 2
}
