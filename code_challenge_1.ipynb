{
 "cells": [
  {
   "cell_type": "code",
   "execution_count": 5,
   "metadata": {},
   "outputs": [],
   "source": [
    "from langchain.chat_models import ChatOpenAI\n",
    "from langchain.prompts import ChatPromptTemplate\n",
    "from langchain.callbacks import StreamingStdOutCallbackHandler\n",
    "\n",
    "chat = ChatOpenAI(\n",
    "    temperature=0.1,\n",
    "    streaming=True,\n",
    "    callbacks= [StreamingStdOutCallbackHandler()],\n",
    "    )\n",
    "\n",
    "generate_tempalte = ChatPromptTemplate.from_messages([\n",
    "    (\"system\", \"당신은 프로그래밍 언어에 관한 창의적인 시를 쓰는데 탁월한 시인입니다. 주어지는 프로그래밍 언어에 대한 시를 작성해주세요.\"),\n",
    "    (\"human\", \"{language} 에 관해 시를 써주세요\"),\n",
    "    ])\n",
    "\n",
    "generate_chain = generate_tempalte | chat"
   ]
  },
  {
   "cell_type": "code",
   "execution_count": 6,
   "metadata": {},
   "outputs": [
    {
     "name": "stdout",
     "output_type": "stream",
     "text": [
      "황금빛 노래, 스칼라여 영원히  \n",
      "함께 춤추며 세상을 빛내는  \n",
      "함수형과 객체지향이 만나  \n",
      "아름다운 코드를 탄생시키네  \n",
      "\n",
      "패턴 매칭의 우아한 춤으로  \n",
      "복잡함을 날려버리며  \n",
      "변이와 가변성을 거부하며  \n",
      "안정성을 선사하는 스칼라  \n",
      "\n",
      "높은 산봉우리를 향해  \n",
      "함께 오르는 우리 모두  \n",
      "스칼라의 아름다움을 노래하며  \n",
      "세상을 빛내는 그 순간까지이 시는 프로그래밍 언어인 스칼라에 대한 찬가로 보입니다. 스칼라는 함수형 프로그래밍과 객체지향 프로그래밍을 결합한 언어로, 아름다운 코드를 작성할 수 있는 강력한 도구로 손꼽힙니다.\n",
      "\n",
      "시의 첫 부분에서는 \"황금빛 노래\"와 \"세상을 빛내는\"이라는 표현을 통해 스칼라가 얼마나 아름다운 코드를 만들어내는지를 강조하고 있습니다. 함수형과 객체지향이 만나 아름다운 코드가 탄생한다는 것을 강조하며, 스칼라의 능력을 찬양하고 있습니다.\n",
      "\n",
      "두 번째 부분에서는 \"패턴 매칭의 우아한 춤\"과 \"안정성을 선사하는\"이라는 표현을 통해 스칼라가 복잡함을 간단하게 해결하고 안정성을 제공하는 특징을 강조하고 있습니다.\n",
      "\n",
      "마지막 부분에서는 \"높은 산봉우리를 향해 함께 오르는 우리 모두\"와 \"세상을 빛내는 그 순간까지\"라는 표현을 통해 스칼라를 사용하는 프로그래머들이 함께 노래하며 발전해 나가는 모습을 상징적으로 표현하고 있습니다. 전체적으로 이 시는 스칼라의 아름다움과 능력을 찬양하며, 프로그래밍의 즐거움과 의미를 강조하고 있습니다."
     ]
    },
    {
     "data": {
      "text/plain": [
       "AIMessageChunk(content='이 시는 프로그래밍 언어인 스칼라에 대한 찬가로 보입니다. 스칼라는 함수형 프로그래밍과 객체지향 프로그래밍을 결합한 언어로, 아름다운 코드를 작성할 수 있는 강력한 도구로 손꼽힙니다.\\n\\n시의 첫 부분에서는 \"황금빛 노래\"와 \"세상을 빛내는\"이라는 표현을 통해 스칼라가 얼마나 아름다운 코드를 만들어내는지를 강조하고 있습니다. 함수형과 객체지향이 만나 아름다운 코드가 탄생한다는 것을 강조하며, 스칼라의 능력을 찬양하고 있습니다.\\n\\n두 번째 부분에서는 \"패턴 매칭의 우아한 춤\"과 \"안정성을 선사하는\"이라는 표현을 통해 스칼라가 복잡함을 간단하게 해결하고 안정성을 제공하는 특징을 강조하고 있습니다.\\n\\n마지막 부분에서는 \"높은 산봉우리를 향해 함께 오르는 우리 모두\"와 \"세상을 빛내는 그 순간까지\"라는 표현을 통해 스칼라를 사용하는 프로그래머들이 함께 노래하며 발전해 나가는 모습을 상징적으로 표현하고 있습니다. 전체적으로 이 시는 스칼라의 아름다움과 능력을 찬양하며, 프로그래밍의 즐거움과 의미를 강조하고 있습니다.')"
      ]
     },
     "execution_count": 6,
     "metadata": {},
     "output_type": "execute_result"
    }
   ],
   "source": [
    "analyze_tempalte = ChatPromptTemplate.from_messages([\n",
    "    (\"system\", \"당신은 남다른 통찰력을 갖고 시를 해석하는데 뛰어난 능력을 갖고 있습니다. 주어지는 시를 읽고 해석해주세요.\"),\n",
    "    (\"human\", \"{poetry}\"),\n",
    "    ])\n",
    "\n",
    "analyze_chain = analyze_tempalte | chat\n",
    "\n",
    "final_chain = {\"poetry\" : generate_chain} | analyze_chain\n",
    "\n",
    "final_chain.invoke({\"language\": \"scala\"})\n"
   ]
  }
 ],
 "metadata": {
  "kernelspec": {
   "display_name": "env",
   "language": "python",
   "name": "python3"
  },
  "language_info": {
   "codemirror_mode": {
    "name": "ipython",
    "version": 3
   },
   "file_extension": ".py",
   "mimetype": "text/x-python",
   "name": "python",
   "nbconvert_exporter": "python",
   "pygments_lexer": "ipython3",
   "version": "3.11.11"
  }
 },
 "nbformat": 4,
 "nbformat_minor": 2
}
